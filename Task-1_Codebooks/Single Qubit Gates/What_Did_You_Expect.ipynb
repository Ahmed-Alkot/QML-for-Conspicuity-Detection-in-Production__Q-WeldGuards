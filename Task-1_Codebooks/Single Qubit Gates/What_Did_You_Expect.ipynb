{
 "cells": [
  {
   "cell_type": "markdown",
   "metadata": {},
   "source": [
    "# What Did You Expect?"
   ]
  },
  {
   "cell_type": "markdown",
   "metadata": {},
   "source": [
    "### Codercise 1.10.1"
   ]
  },
  {
   "cell_type": "code",
   "execution_count": 1,
   "metadata": {},
   "outputs": [
    {
     "name": "stdout",
     "output_type": "stream",
     "text": [
      "-0.7071067811865471\n"
     ]
    }
   ],
   "source": [
    "import pennylane as qml\n",
    "import numpy as np\n",
    "dev = qml.device('default.qubit', wires=1)\n",
    "\n",
    "@qml.qnode(dev)\n",
    "def circuit():\n",
    "    qml.RX(np.pi / 4, wires=0)\n",
    "    qml.Hadamard(wires=0)\n",
    "    qml.PauliZ(wires=0)\n",
    "\n",
    "    return qml.expval(qml.PauliY(0))\n",
    "\n",
    "print(circuit())"
   ]
  },
  {
   "cell_type": "markdown",
   "metadata": {},
   "source": [
    "### Codercise 1.10.2"
   ]
  },
  {
   "cell_type": "code",
   "execution_count": 2,
   "metadata": {},
   "outputs": [
    {
     "name": "stdout",
     "output_type": "stream",
     "text": [
      "[-0.72, -0.704, -0.7008, -0.7061, -0.706854]\n"
     ]
    }
   ],
   "source": [
    "# An array to store your results\n",
    "shot_results = [0, 0, 0, 0, 0]\n",
    "\n",
    "# Different numbers of shots\n",
    "shot_values = [100, 1000, 10000, 100000, 1000000]\n",
    "\n",
    "j=0\n",
    "for i in shot_values: \n",
    "    \n",
    "    dev = qml.device('default.qubit', wires = 1, shots = i)\n",
    "    \n",
    "    @qml.qnode(dev)\n",
    "    def device():\n",
    "        qml.RX(np.pi / 4, wires=0)\n",
    "        qml.Hadamard(wires=0)\n",
    "        qml.PauliZ(wires=0)\n",
    "\n",
    "        return qml.expval(qml.PauliY(wires=0))\n",
    "    \n",
    "    shot_results[j] = device()\n",
    "    j+=1\n",
    "\n",
    "print(qml.math.unwrap(shot_results))\n"
   ]
  },
  {
   "cell_type": "markdown",
   "metadata": {},
   "source": [
    "### Codercise 1.10.3"
   ]
  },
  {
   "cell_type": "code",
   "execution_count": 3,
   "metadata": {},
   "outputs": [
    {
     "name": "stdout",
     "output_type": "stream",
     "text": [
      "-0.70934\n"
     ]
    }
   ],
   "source": [
    "# Recreate the standard circuit we've been using\n",
    "dev = qml.device(\"default.qubit\", wires=1, shots=100000)\n",
    "\n",
    "@qml.qnode(dev)\n",
    "def circuit():\n",
    "    qml.RX(np.pi/4, wires=0)\n",
    "    qml.Hadamard(wires=0)\n",
    "    qml.PauliZ(wires=0)\n",
    "    \n",
    "    return qml.sample(qml.PauliY(0))\n",
    "    \n",
    "\n",
    "# Create the 'manual' version of computing the expected value\n",
    "def compute_expval_from_samples(samples):\n",
    "\n",
    "    estimated_expval = 0\n",
    "\n",
    "    # Initialize +1 and -1 counting variables\n",
    "    plus = minus = 0\n",
    "    \n",
    "    # Count how many times +1 and -1 appears in our sample\n",
    "    for i in range(len(samples)):\n",
    "        if samples[i] == 1:\n",
    "            plus+=1\n",
    "        else:\n",
    "            minus+=1\n",
    "    \n",
    "    # Return the expected value\n",
    "    return ((-1)*minus + plus) / len(samples)\n",
    "\n",
    "samples = circuit()\n",
    "print(compute_expval_from_samples(samples))"
   ]
  },
  {
   "cell_type": "markdown",
   "metadata": {},
   "source": [
    "### Codercise 1.10.4"
   ]
  },
  {
   "cell_type": "code",
   "execution_count": 4,
   "metadata": {},
   "outputs": [],
   "source": [
    "def variance_experiment(n_shots):\n",
    "    \"\"\"Run an experiment to determine the variance in an expectation\n",
    "    value computed with a given number of shots.\n",
    "\n",
    "    Args:\n",
    "        n_shots (int): The number of shots\n",
    "\n",
    "    Returns:\n",
    "        float: The variance in expectation value we obtain running the\n",
    "        circuit 100 times with n_shots shots each.\n",
    "    \"\"\"\n",
    "\n",
    "    # To obtain a variance, we run the circuit multiple times at each shot value.\n",
    "    n_trials = 100\n",
    "\n",
    " # CREATE A DEVICE WITH GIVEN NUMBER OF SHOTS\n",
    "    dev = qml.device('default.qubit', wires=1, shots=n_shots)\n",
    "    \n",
    "    # DECORATE THE CIRCUIT BELOW TO CREATE A QNODE\n",
    "    @qml.qnode(dev)\n",
    "    def circuit():\n",
    "        qml.Hadamard(wires=0)\n",
    "        return qml.expval(qml.PauliZ(wires=0))\n",
    "\n",
    "    # RUN THE QNODE N_TRIALS TIMES AND RETURN THE VARIANCE OF THE RESULTS\n",
    "    arr = [0] * n_trials\n",
    "    for i in range(n_trials):\n",
    "        arr[i] = circuit()\n",
    "    \n",
    "    return np.var(arr)\n",
    "\n",
    "\n",
    "def variance_scaling(n_shots):\n",
    "    \"\"\"Once you have determined how the variance in expectation value scales\n",
    "    with the number of shots, complete this function to programmatically\n",
    "    represent the relationship.\n",
    "\n",
    "    Args:\n",
    "        n_shots (int): The number of shots\n",
    "\n",
    "    Returns:\n",
    "        float: The variance in expectation value we expect to see when we run\n",
    "        an experiment with n_shots shots.\n",
    "    \"\"\"\n",
    "    estimated_variance = 1 / n_shots\n",
    "    return estimated_variance\n",
    "\n",
    "# Various numbers of shots; you can change this\n",
    "shot_vals = [10, 20, 40, 100, 200, 400, 1000, 2000, 4000]\n",
    "\n",
    "# Used to plot your results\n",
    "results_experiment = [variance_experiment(shots) for shots in shot_vals]\n",
    "results_scaling = [variance_scaling(shots) for shots in shot_vals]\n",
    "# plot = plotter(shot_vals, results_experiment, results_scaling)\n"
   ]
  }
 ],
 "metadata": {
  "kernelspec": {
   "display_name": "QML_Proj",
   "language": "python",
   "name": "python3"
  },
  "language_info": {
   "codemirror_mode": {
    "name": "ipython",
    "version": 3
   },
   "file_extension": ".py",
   "mimetype": "text/x-python",
   "name": "python",
   "nbconvert_exporter": "python",
   "pygments_lexer": "ipython3",
   "version": "3.12.4"
  }
 },
 "nbformat": 4,
 "nbformat_minor": 2
}
