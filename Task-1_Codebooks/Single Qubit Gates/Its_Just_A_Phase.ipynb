{
 "cells": [
  {
   "cell_type": "markdown",
   "metadata": {},
   "source": [
    "# Its Just a Phase"
   ]
  },
  {
   "cell_type": "markdown",
   "metadata": {},
   "source": [
    "### Codercise 1.5.1"
   ]
  },
  {
   "cell_type": "code",
   "execution_count": 1,
   "metadata": {},
   "outputs": [
    {
     "name": "stdout",
     "output_type": "stream",
     "text": [
      "[ 0.70710678+0.j -0.70710678+0.j]\n"
     ]
    }
   ],
   "source": [
    "import pennylane as qml\n",
    "from pennylane import numpy as np\n",
    "\n",
    "dev = qml.device(\"default.qubit\", wires=1)\n",
    "\n",
    "\n",
    "@qml.qnode(dev)\n",
    "def apply_z_to_plus():\n",
    "    \"\"\"Write a circuit that applies PauliZ to the |+> state and returns\n",
    "    the state.\n",
    "\n",
    "    Returns:\n",
    "        np.array[complex]: The state of the qubit after the operations.\n",
    "    \"\"\"\n",
    "\n",
    "    qml.Hadamard(wires=0)\n",
    "    qml.PauliZ(wires=0)\n",
    "\n",
    "    return qml.state()\n",
    "\n",
    "\n",
    "print(apply_z_to_plus())"
   ]
  },
  {
   "cell_type": "markdown",
   "metadata": {},
   "source": [
    "### Codercise 1.5.2"
   ]
  },
  {
   "cell_type": "code",
   "execution_count": 2,
   "metadata": {},
   "outputs": [
    {
     "name": "stdout",
     "output_type": "stream",
     "text": [
      "[4.32978028e-17-0.70710678j 4.32978028e-17+0.70710678j]\n"
     ]
    }
   ],
   "source": [
    "dev = qml.device(\"default.qubit\", wires=1)\n",
    "\n",
    "\n",
    "@qml.qnode(dev)\n",
    "def fake_z():\n",
    "    \"\"\"Use RZ to produce the same action as Pauli Z on the |+> state.\n",
    "\n",
    "    Returns:\n",
    "        np.array[complex]: The state of the qubit after the operations.\n",
    "    \"\"\"\n",
    "\n",
    "    qml.Hadamard(wires=0)\n",
    "    qml.RZ(np.pi, wires=0)\n",
    "    \n",
    "    return qml.state()\n",
    "\n",
    "print(fake_z())"
   ]
  },
  {
   "cell_type": "markdown",
   "metadata": {},
   "source": [
    "### Codercise 1.5.3"
   ]
  },
  {
   "cell_type": "code",
   "execution_count": 3,
   "metadata": {},
   "outputs": [],
   "source": [
    "dev = qml.device(\"default.qubit\", wires=1)\n",
    "\n",
    "\n",
    "@qml.qnode(dev)\n",
    "def many_rotations():\n",
    "    \"\"\"Implement the circuit depicted above and return the quantum state.\n",
    "\n",
    "    Returns:\n",
    "        np.array[complex]: The state of the qubit after the operations.\n",
    "    \"\"\"\n",
    "\n",
    "    qml.Hadamard(wires=0)\n",
    "    qml.S(wires=0)\n",
    "    qml.adjoint(qml.T)(wires=0)\n",
    "    qml.RZ(0.3, wires=0)\n",
    "    qml.adjoint(qml.S)(wires=0)\n",
    "\n",
    "    return qml.state()\n"
   ]
  }
 ],
 "metadata": {
  "kernelspec": {
   "display_name": "QML_Proj",
   "language": "python",
   "name": "python3"
  },
  "language_info": {
   "codemirror_mode": {
    "name": "ipython",
    "version": 3
   },
   "file_extension": ".py",
   "mimetype": "text/x-python",
   "name": "python",
   "nbconvert_exporter": "python",
   "pygments_lexer": "ipython3",
   "version": "3.12.4"
  }
 },
 "nbformat": 4,
 "nbformat_minor": 2
}
