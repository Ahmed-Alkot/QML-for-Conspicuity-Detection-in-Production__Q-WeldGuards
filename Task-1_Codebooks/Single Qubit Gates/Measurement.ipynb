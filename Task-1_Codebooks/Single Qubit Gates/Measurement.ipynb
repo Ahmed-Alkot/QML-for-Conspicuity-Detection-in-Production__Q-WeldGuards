{
 "cells": [
  {
   "cell_type": "markdown",
   "metadata": {},
   "source": [
    "# Measurement"
   ]
  },
  {
   "cell_type": "markdown",
   "metadata": {},
   "source": [
    "### Codercise 1.9.1"
   ]
  },
  {
   "cell_type": "code",
   "execution_count": 10,
   "metadata": {},
   "outputs": [
    {
     "name": "stdout",
     "output_type": "stream",
     "text": [
      "[0.5 0.5]\n",
      "[0.5 0.5]\n"
     ]
    }
   ],
   "source": [
    "import pennylane as qml\n",
    "import numpy as np\n",
    "\n",
    "dev = qml.device(\"default.qubit\", wires=1)\n",
    "\n",
    "\n",
    "@qml.qnode(dev)\n",
    "def apply_h_and_measure(state):\n",
    "    \"\"\"Complete the function such that we apply the Hadamard gate\n",
    "    and measure in the computational basis.\n",
    "\n",
    "    Args:\n",
    "        state (int): Either 0 or 1. If 1, prepare the qubit in state |1>,\n",
    "            otherwise leave it in state 0.\n",
    "\n",
    "    Returns:\n",
    "        np.array[float]: The measurement outcome probabilities.\n",
    "    \"\"\"\n",
    "    if state == 1:\n",
    "        qml.PauliX(wires=0)\n",
    "\n",
    "    qml.Hadamard(wires=0)\n",
    "\n",
    "    return qml.probs(wires=0)\n",
    "\n",
    "\n",
    "print(apply_h_and_measure(0))\n",
    "print(apply_h_and_measure(1))\n"
   ]
  },
  {
   "cell_type": "markdown",
   "metadata": {},
   "source": [
    "### Codercise 1.9.2"
   ]
  },
  {
   "cell_type": "code",
   "execution_count": 11,
   "metadata": {},
   "outputs": [],
   "source": [
    "import pennylane as qml\n",
    "import numpy as np\n",
    "\n",
    "# A QUANTUM FUNCTION THAT PREPARES (1/2)|0> + i(sqrt(3)/2)|1>\n",
    "def prepare_psi():\n",
    "\n",
    "    qml.RY(2*np.pi/3, wires=0)\n",
    "    qml.RZ(np.pi/2, wires=0)\n",
    "    \n",
    "    pass\n",
    "\n",
    "\n",
    "def y_basis_rotation():\n",
    "\n",
    "    qml.Hadamard(wires=0)\n",
    "    qml.S(wires=0)\n",
    "    \n",
    "    pass\n"
   ]
  },
  {
   "cell_type": "markdown",
   "metadata": {},
   "source": [
    "### Codercise 1.9.3"
   ]
  },
  {
   "cell_type": "code",
   "execution_count": 12,
   "metadata": {},
   "outputs": [
    {
     "name": "stdout",
     "output_type": "stream",
     "text": [
      "[0.9330127 0.0669873]\n"
     ]
    }
   ],
   "source": [
    "dev = qml.device(\"default.qubit\", wires=1)\n",
    "\n",
    "\n",
    "@qml.qnode(dev)\n",
    "def measure_in_y_basis():\n",
    "    #State preparation\n",
    "    prepare_psi()\n",
    "\n",
    "    # PERFORM THE ROTATION BACK TO COMPUTATIONAL BASIS\n",
    "    qml.adjoint(y_basis_rotation)()\n",
    "    \n",
    "    # RETURN THE MEASUREMENT OUTCOME PROBABILITIES\n",
    "    return qml.probs(wires=0)\n",
    "\n",
    "\n",
    "print(measure_in_y_basis())\n"
   ]
  }
 ],
 "metadata": {
  "kernelspec": {
   "display_name": "QML_Proj",
   "language": "python",
   "name": "python3"
  },
  "language_info": {
   "codemirror_mode": {
    "name": "ipython",
    "version": 3
   },
   "file_extension": ".py",
   "mimetype": "text/x-python",
   "name": "python",
   "nbconvert_exporter": "python",
   "pygments_lexer": "ipython3",
   "version": "3.12.4"
  }
 },
 "nbformat": 4,
 "nbformat_minor": 2
}
