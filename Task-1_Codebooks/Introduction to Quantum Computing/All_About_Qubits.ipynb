{
 "cells": [
  {
   "cell_type": "markdown",
   "metadata": {},
   "source": [
    "# All About Qubits"
   ]
  },
  {
   "cell_type": "markdown",
   "metadata": {},
   "source": [
    "### Codersise I.1.1"
   ]
  },
  {
   "cell_type": "code",
   "execution_count": 1,
   "metadata": {},
   "outputs": [
    {
     "name": "stdout",
     "output_type": "stream",
     "text": [
      "[0.70710678 0.70710678]\n"
     ]
    }
   ],
   "source": [
    "import numpy as np\n",
    "\n",
    "def normalize_state(alpha, beta):\n",
    "    \"\"\"Compute a normalized quantum state given arbitrary amplitudes.\n",
    "\n",
    "    Args:\n",
    "        alpha (complex): The amplitude associated with the |0> state.\n",
    "        beta (complex): The amplitude associated with the |1> state.\n",
    "\n",
    "    Returns:\n",
    "        np.array[complex]: A vector (numpy array) with 2 elements that represents\n",
    "        a normalized quantum state.\n",
    "    \"\"\"\n",
    "\n",
    "    psi = np.array([alpha, beta])\n",
    "    norm = np.linalg.norm(psi)\n",
    "    psi = psi / norm\n",
    "\n",
    "    return psi\n",
    "\n",
    "# Testing results\n",
    "print(normalize_state(1, 1))\n"
   ]
  },
  {
   "cell_type": "markdown",
   "metadata": {},
   "source": [
    "### Codersise I.1.2"
   ]
  },
  {
   "cell_type": "code",
   "execution_count": 2,
   "metadata": {},
   "outputs": [
    {
     "name": "stdout",
     "output_type": "stream",
     "text": [
      "<0|0> = 1\n",
      "<0|1> = 0\n",
      "<1|0> = 0\n",
      "<1|1> = 1\n"
     ]
    }
   ],
   "source": [
    "def inner_product(state_1, state_2):\n",
    "    \"\"\"Compute the inner product between two states.\n",
    "\n",
    "    Args:\n",
    "        state_1 (np.array[complex]): A normalized quantum state vector\n",
    "        state_2 (np.array[complex]): A second normalized quantum state vector\n",
    "\n",
    "    Returns:\n",
    "        complex: The value of the inner product <state_1 | state_2>.\n",
    "    \"\"\"\n",
    "\n",
    "    innerProduct = 0\n",
    "\n",
    "    for i in range(len(state_1)):\n",
    "        innerProduct +=  np.conj(state_1[i]) * state_2[i]\n",
    "\n",
    "    return innerProduct\n",
    "\n",
    "\n",
    "# Testing results\n",
    "ket_0 = np.array([1, 0])\n",
    "ket_1 = np.array([0, 1])\n",
    "\n",
    "print(f\"<0|0> = {inner_product(ket_0, ket_0)}\")\n",
    "print(f\"<0|1> = {inner_product(ket_0, ket_1)}\")\n",
    "print(f\"<1|0> = {inner_product(ket_1, ket_0)}\")\n",
    "print(f\"<1|1> = {inner_product(ket_1, ket_1)}\")\n"
   ]
  },
  {
   "cell_type": "markdown",
   "metadata": {},
   "source": [
    "### Codersise I.1.3"
   ]
  },
  {
   "cell_type": "code",
   "execution_count": 3,
   "metadata": {},
   "outputs": [
    {
     "name": "stdout",
     "output_type": "stream",
     "text": [
      "[0 0 0 1 1 1 0 0 1 0]\n"
     ]
    }
   ],
   "source": [
    "\n",
    "def measure_state(state, num_meas):\n",
    "    \"\"\"Simulate a quantum measurement process.\n",
    "\n",
    "    Args:\n",
    "        state (np.array[complex]): A normalized qubit state vector.\n",
    "        num_meas (int): The number of measurements to take\n",
    "\n",
    "    Returns:\n",
    "        np.array[int]: A set of num_meas samples, 0 or 1, chosen according to the probability\n",
    "        distribution defined by the input state.\n",
    "    \"\"\"\n",
    "\n",
    "    prob_0 = np.linalg.norm(state[0])**2\n",
    "    outcomes = np.array([0 for i in range(num_meas)])\n",
    "    \n",
    "    for i in range(len(outcomes)):\n",
    "        x = np.random.random()\n",
    "\n",
    "        if x < prob_0:\n",
    "            outcomes[i] = 0\n",
    "        else:\n",
    "            outcomes[i] = 1\n",
    "\n",
    "    return outcomes\n",
    "\n",
    "#Testing results\n",
    "psi = np.array([0.707, 0.707])\n",
    "print(measure_state(psi, 10))"
   ]
  },
  {
   "cell_type": "markdown",
   "metadata": {},
   "source": [
    "### Codersise I.1.4"
   ]
  },
  {
   "cell_type": "code",
   "execution_count": 4,
   "metadata": {},
   "outputs": [
    {
     "name": "stdout",
     "output_type": "stream",
     "text": [
      "[0.70710678 0.70710678]\n"
     ]
    }
   ],
   "source": [
    "U = np.array([[1, 1], [1, -1]]) / np.sqrt(2)\n",
    "\n",
    "\n",
    "def apply_u(state):\n",
    "    \"\"\"Apply a quantum operation.\n",
    "\n",
    "    Args:\n",
    "        state (np.array[complex]): A normalized quantum state vector.\n",
    "\n",
    "    Returns:\n",
    "        np.array[complex]: The output state after applying U.\n",
    "    \"\"\"\n",
    "\n",
    "    new_state = U @ state\n",
    "    \n",
    "    return new_state\n",
    "\n",
    "#Testing output\n",
    "print(apply_u([1, 0]))"
   ]
  },
  {
   "cell_type": "markdown",
   "metadata": {},
   "source": [
    "### Codersise I.1.5"
   ]
  },
  {
   "cell_type": "code",
   "execution_count": 5,
   "metadata": {},
   "outputs": [
    {
     "data": {
      "text/plain": [
       "array([0, 0, 0, 0, 1, 0, 1, 0, 1, 1, 0, 1, 1, 1, 0, 1, 1, 0, 0, 1, 1, 0,\n",
       "       0, 1, 0, 1, 1, 0, 0, 0, 1, 0, 0, 0, 1, 0, 1, 1, 1, 0, 1, 0, 1, 1,\n",
       "       1, 1, 1, 1, 1, 1, 0, 1, 1, 0, 1, 0, 1, 1, 1, 0, 0, 0, 1, 0, 0, 1,\n",
       "       0, 1, 0, 0, 0, 1, 1, 1, 0, 1, 0, 1, 0, 1, 0, 1, 0, 0, 1, 1, 1, 0,\n",
       "       0, 1, 0, 1, 0, 0, 0, 0, 0, 1, 0, 0])"
      ]
     },
     "execution_count": 5,
     "metadata": {},
     "output_type": "execute_result"
    }
   ],
   "source": [
    "U = np.array([[1, 1], [1, -1]]) / np.sqrt(2)\n",
    "\n",
    "\n",
    "def initialize_state():\n",
    "    \"\"\"Prepare a qubit in state |0>.\n",
    "\n",
    "    Returns:\n",
    "        np.array[float]: the vector representation of state |0>.\n",
    "    \"\"\"\n",
    "    \n",
    "    return np.array([1, 0])\n",
    "\n",
    "\n",
    "def apply_u(state):\n",
    "    \"\"\"Apply a quantum operation.\"\"\"\n",
    "    return np.dot(U, state)\n",
    "\n",
    "\n",
    "def measure_state(state, num_meas):\n",
    "    \"\"\"Measure a quantum state num_meas times.\"\"\"\n",
    "    p_alpha = np.abs(state[0]) ** 2\n",
    "    p_beta = np.abs(state[1]) ** 2\n",
    "    meas_outcome = np.random.choice([0, 1], p=[p_alpha, p_beta], size=num_meas)\n",
    "    return meas_outcome\n",
    "\n",
    "\n",
    "def quantum_algorithm():\n",
    "    \"\"\"Use the functions above to implement the quantum algorithm described above.\n",
    "\n",
    "    Try and do so using three lines of code or less!\n",
    "\n",
    "    Returns:\n",
    "        np.array[int]: the measurement results after running the algorithm 100 times\n",
    "    \"\"\"\n",
    "\n",
    "    psi = initialize_state()\n",
    "    psi = apply_u(psi)\n",
    "    outcomes = measure_state(psi, 100)\n",
    "\n",
    "    return outcomes\n",
    "\n",
    "#Testing output\n",
    "quantum_algorithm()"
   ]
  }
 ],
 "metadata": {
  "kernelspec": {
   "display_name": "QML_Proj",
   "language": "python",
   "name": "python3"
  },
  "language_info": {
   "codemirror_mode": {
    "name": "ipython",
    "version": 3
   },
   "file_extension": ".py",
   "mimetype": "text/x-python",
   "name": "python",
   "nbconvert_exporter": "python",
   "pygments_lexer": "ipython3",
   "version": "3.12.4"
  }
 },
 "nbformat": 4,
 "nbformat_minor": 2
}
